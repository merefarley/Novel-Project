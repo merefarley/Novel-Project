{
  "nbformat": 4,
  "nbformat_minor": 0,
  "metadata": {
    "colab": {
      "name": "Tutorial",
      "provenance": [],
      "authorship_tag": "ABX9TyN/lsH7waYtJRpGNIOrRNxW",
      "include_colab_link": true
    },
    "kernelspec": {
      "name": "python3",
      "display_name": "Python 3"
    },
    "language_info": {
      "name": "python"
    }
  },
  "cells": [
    {
      "cell_type": "markdown",
      "metadata": {
        "id": "view-in-github",
        "colab_type": "text"
      },
      "source": [
        "<a href=\"https://colab.research.google.com/github/merefarley/Novel-Project/blob/main/Tutorial.ipynb\" target=\"_parent\"><img src=\"https://colab.research.google.com/assets/colab-badge.svg\" alt=\"Open In Colab\"/></a>"
      ]
    },
    {
      "cell_type": "markdown",
      "metadata": {
        "id": "NgN_hqZorM_D"
      },
      "source": [
        "#1. Begin by importing the random library. This will allow us to generate randomly produced integers to output something random."
      ]
    },
    {
      "cell_type": "code",
      "metadata": {
        "id": "GxW-wy7brQtu"
      },
      "source": [
        "import random"
      ],
      "execution_count": null,
      "outputs": []
    },
    {
      "cell_type": "markdown",
      "metadata": {
        "id": "OFeTbZwDrP91"
      },
      "source": [
        "#2. Because we are creating a randomly generated poem. We will need to create arrays so we can randomly generate segments of the poem one at a time. We will begin with pronouns."
      ]
    },
    {
      "cell_type": "code",
      "metadata": {
        "id": "ZEY9ULhnr9-o"
      },
      "source": [
        "pronouns = [\"he was walking to\", \"she was walking to\", \"they were walking to\", \"it was walking to\", \"he was running to\", \"she was running to\", \"they were running to\",\"it was running to\",\"he was sprinting to\",\"she was sprinting to\", \"they were sprinting to\",\"it was sprinting to\"]"
      ],
      "execution_count": null,
      "outputs": []
    },
    {
      "cell_type": "markdown",
      "metadata": {
        "id": "mNAIVkaMsPQl"
      },
      "source": [
        "#3. Next, a place to talk about in the poem."
      ]
    },
    {
      "cell_type": "code",
      "metadata": {
        "id": "a0Ui5UnosajH"
      },
      "source": [
        "place = [\"the beach\", \"the bottom of the ocean\", \"the hot dog stand\",\"the beach house\",\"the ocean\",\"the bay\",\"the dock\",\"the tackle shop\",\"the yacht club\"]"
      ],
      "execution_count": null,
      "outputs": []
    },
    {
      "cell_type": "markdown",
      "metadata": {
        "id": "0mOI9yiUsfni"
      },
      "source": [
        "#4. Next, a thing to talk about in the poem.\n",
        "\n",
        "```\n",
        "# This is formatted as code\n",
        "```\n",
        "\n"
      ]
    },
    {
      "cell_type": "code",
      "metadata": {
        "id": "PcX2ZEvistQS"
      },
      "source": [
        "thing = [\"the beach patrons\",\"the lifeguard\",\"the dolphin\",\"the shark\", \"the starfish\", \"the stingray\", \"the fish\", \"the umbrella\", \"the sun\", \"the waves\"]"
      ],
      "execution_count": null,
      "outputs": []
    },
    {
      "cell_type": "markdown",
      "metadata": {
        "id": "iygfa1sNs54d"
      },
      "source": [
        "#5. Now that we have arrays of phrases to randomly to pull from, we can begin generating our poem. We will start with a beginning phrase that will remain the same, and then randomly generate the second part of the line. You can randomly generate an array element by calling choice from the random library and passing an argument to it which is the array you want to randomly pull from.\n"
      ]
    },
    {
      "cell_type": "code",
      "metadata": {
        "id": "CxL94caJtMyi"
      },
      "source": [
        "print (\"After getting to the beach\", random.choice (pronouns))"
      ],
      "execution_count": null,
      "outputs": []
    },
    {
      "cell_type": "markdown",
      "metadata": {
        "id": "czBZT3Dzm4Jm"
      },
      "source": [
        "#6. Now we need to add a place."
      ]
    },
    {
      "cell_type": "code",
      "metadata": {
        "id": "dE_uoJ-cm4gB"
      },
      "source": [
        "print (random.choice(place))"
      ],
      "execution_count": null,
      "outputs": []
    },
    {
      "cell_type": "markdown",
      "metadata": {
        "id": "h3gVPnxkt0H-"
      },
      "source": [
        "# 7. Next, we will continue the code by adding another set phrase, and then randomly generate a place."
      ]
    },
    {
      "cell_type": "code",
      "metadata": {
        "colab": {
          "base_uri": "https://localhost:8080/"
        },
        "id": "FHYreevmt_po",
        "outputId": "3be73320-f75b-47c2-98ef-52a986caef28"
      },
      "source": [
        "print (\"To retrieve the\", random.choice (thing))"
      ],
      "execution_count": 10,
      "outputs": [
        {
          "output_type": "stream",
          "name": "stdout",
          "text": [
            "In order to retrieve the the fish\n"
          ]
        }
      ]
    },
    {
      "cell_type": "markdown",
      "metadata": {
        "id": "QEuuFr1BuLwY"
      },
      "source": [
        "# 8. Finally we will output the last line of the poem."
      ]
    },
    {
      "cell_type": "code",
      "metadata": {
        "colab": {
          "base_uri": "https://localhost:8080/"
        },
        "id": "HsWCXuIEuSy-",
        "outputId": "eb6d97f5-3d68-4ff4-ee0c-d9a04bd24986"
      },
      "source": [
        "print (\"which would insure the best beach day ever\")"
      ],
      "execution_count": 8,
      "outputs": [
        {
          "output_type": "stream",
          "name": "stdout",
          "text": [
            "which would insure the best beach day ever\n"
          ]
        }
      ]
    },
    {
      "cell_type": "markdown",
      "metadata": {
        "id": "aLMN-wEhk4cn"
      },
      "source": [
        "#When you put all of these steps together the final product should result in something like this:"
      ]
    },
    {
      "cell_type": "code",
      "metadata": {
        "colab": {
          "base_uri": "https://localhost:8080/"
        },
        "id": "WG6MtYALlV3d",
        "outputId": "9b68ed42-beab-41b6-a8d0-92d401951c09"
      },
      "source": [
        "import random\n",
        "pronouns = [\"he was walking to\", \"she was walking to\", \"they were walking to\", \"it was walking to\", \"he was running to\", \"she was running to\", \"they were running to\",\"it was running to\",\"he was sprinting to\",\"she was sprinting to\", \"they were sprinting to\",\"it was sprinting to\"]\n",
        "place = [\"the beach\", \"the bottom of the ocean\", \"the hot dog stand\",\"the beach house\",\"the ocean\",\"the bay\",\"the dock\",\"the tackle shop\",\"the yacht club\"]\n",
        "thing = [\"the beach patrons\",\"the lifeguard\",\"the dolphin\",\"the shark\", \"the starfish\", \"the stingray\", \"the fish\", \"the umbrella\", \"the sun\", \"the waves\"]\n",
        "print (\"After getting to the beach\", random.choice (pronouns))\n",
        "print (random.choice(place))\n",
        "print (\"To retrieve the\", random.choice (thing))\n",
        "print (\"which would insure the best beach day ever\")"
      ],
      "execution_count": 12,
      "outputs": [
        {
          "output_type": "stream",
          "name": "stdout",
          "text": [
            "After getting to the beach he was sprinting to\n",
            "the ocean\n",
            "To retrieve the the stingray\n",
            "which would insure the best beach day ever\n"
          ]
        }
      ]
    }
  ]
}